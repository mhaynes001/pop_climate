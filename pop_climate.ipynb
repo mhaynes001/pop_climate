{
 "cells": [
  {
   "cell_type": "code",
   "execution_count": null,
   "metadata": {
    "collapsed": true,
    "deletable": true,
    "editable": true
   },
   "outputs": [],
   "source": [
    "#!/usr/bin/python\n",
    "\n",
    "# Install dependencies and restart Python3\n",
    "#!pip install --upgrade pip\n",
    "#!pip install numpy pandas rasterio matplotlib\n",
    "\n",
    "import rasterio as rt\n",
    "from rasterio.plot import show\n",
    "import numpy as np\n",
    "import numpy.ma as ma\n",
    "import pandas as pd\n",
    "import matplotlib.pyplot as plt\n",
    "#Don't show scientific notation in Pandas:\n",
    "pd.options.display.float_format = '{:.0f}'.format  "
   ]
  },
  {
   "cell_type": "code",
   "execution_count": null,
   "metadata": {
    "collapsed": false,
    "deletable": true,
    "editable": true
   },
   "outputs": [],
   "source": [
    "# Set Variables: \n",
    "print('***** Setting Variables:')\n",
    "pop_density_threshold = 1000  ## population per square km...\n",
    "print('Population Density Threshold:',pop_density_threshold,'people/km')\n",
    "cold_threshold = 4.5 #Celcius \n",
    "warm_threshold = 30  #Celcius\n",
    "print(cold_threshold*(9/5)+32,'to',warm_threshold*(9/5)+32)\n",
    "chart_title_suffix = ' Masked for Comfortable Micromobility Use'"
   ]
  },
  {
   "cell_type": "code",
   "execution_count": null,
   "metadata": {
    "collapsed": false,
    "deletable": true,
    "editable": true
   },
   "outputs": [],
   "source": [
    "# Read in GeoTiff Files:\n",
    "print('***** Read GeoTiff Files:')\n",
    "#sedac.ciesin.columbia.edu/data/set/.../data-download\n",
    "pop_density_rt = rt.open(r'pop/gpw_v4_population_density_rev11_2015_2pt5_min.tif')\n",
    "f='gpw_v4_population_count_adjusted_to_2015_unwpp_country_totals_rev11_2015_2pt5_min.tif'\n",
    "pop_count_rt = rt.open(r'pop/'+f)\n",
    "\n",
    "#http://worldclim.org/bioclim\n",
    "climate_avg_rt = rt.open(r'climate/wc2.0_bio_2.5m_01.tif') #BIO1 =Annual Mean Temperature\n",
    "climate_warm_rt = rt.open(r'climate/wc2.0_bio_2.5m_10.tif') #BIO10 =Mean of Warmest 3-mths\n",
    "climate_cold_rt = rt.open(r'climate/wc2.0_bio_2.5m_11.tif') #BIO11 =Mean of Coldest 3-mths\n",
    "print('DONE')"
   ]
  },
  {
   "cell_type": "code",
   "execution_count": null,
   "metadata": {
    "collapsed": false,
    "deletable": true,
    "editable": true
   },
   "outputs": [],
   "source": [
    "# Read the Rasters into np masked arrays: \n",
    "print('***** Read rasters into numpy masked arrays:')\n",
    "pop_density = pop_density_rt.read(out_dtype=np.float64, masked=True)\n",
    "pop_count = pop_count_rt.read(out_dtype=np.float_, masked=True)\n",
    "climate_avg = climate_avg_rt.read(out_dtype=np.float64, masked=True)\n",
    "climate_warm = climate_warm_rt.read(out_dtype=np.float64, masked=True)\n",
    "climate_cold = climate_cold_rt.read(out_dtype=np.float64, masked=True)\n",
    "print('DONE')"
   ]
  },
  {
   "cell_type": "code",
   "execution_count": null,
   "metadata": {
    "collapsed": false,
    "deletable": true,
    "editable": true
   },
   "outputs": [],
   "source": [
    "# Close the Raster data: \n",
    "print('***** Close Rasters')\n",
    "pop_density_rt.close(); del pop_density_rt\n",
    "pop_count_rt.close(); del pop_count_rt\n",
    "climate_avg_rt.close(); del climate_avg_rt\n",
    "climate_warm_rt.close(); del climate_warm_rt\n",
    "climate_cold_rt.close(); del climate_cold_rt"
   ]
  },
  {
   "cell_type": "code",
   "execution_count": null,
   "metadata": {
    "collapsed": false,
    "deletable": true,
    "editable": true
   },
   "outputs": [],
   "source": [
    "# Gather stats on initial arrays: \n",
    "print('***** Gather stats on initial arrays:')\n",
    "def get_stats(nparray, nosum='0'):\n",
    "    # Calculate statistics for masked raster array and return as a dictionary:\n",
    "    stats = {\n",
    "        'min': nparray.min(),\n",
    "        'mean': nparray.mean(),\n",
    "        'max': nparray.max(),\n",
    "        'sum': nparray.sum(),\n",
    "        'count': nparray.count(),\n",
    "        'count_masked': np.ma.count_masked(nparray),\n",
    "        'size_ma': ma.size(nparray)}\n",
    "    if nosum == 'nosum': stats['sum'] = None\n",
    "    return stats\n",
    "\n",
    "## Create a dictionary of dictionaries of stats on raster masked arrays:\n",
    "overall_stats = {}\n",
    "overall_stats['pop_density'] = get_stats(pop_density,'nosum')\n",
    "overall_stats['pop_count'] = get_stats(pop_count)\n",
    "overall_stats['cli_avg'] = get_stats(climate_avg,'nosum')\n",
    "overall_stats['cli_warm'] = get_stats(climate_warm,'nosum')\n",
    "overall_stats['cli_cold'] = get_stats(climate_cold,'nosum')\n",
    "print('DONE')"
   ]
  },
  {
   "cell_type": "code",
   "execution_count": null,
   "metadata": {
    "collapsed": false,
    "deletable": true,
    "editable": true
   },
   "outputs": [],
   "source": [
    "# Compute World (base image), and Urban Density and Population arrays: \n",
    "print('***** Compute world, and population arrays:')\n",
    "world = np.ma.masked_array(ma.ones(pop_density.shape), pop_density.mask)\n",
    "pop_urban_density = ma.masked_where(pop_density < pop_density_threshold, pop_density)\n",
    "overall_stats['pop_urb_dense']= get_stats(pop_urban_density,'nosum')\n",
    "pop_urban = np.ma.masked_array(pop_count, pop_urban_density.mask)\n",
    "overall_stats['pop_urban']= get_stats(pop_urban)\n",
    "del pop_density # Free up some memory\n",
    "print('DONE')"
   ]
  },
  {
   "cell_type": "code",
   "execution_count": null,
   "metadata": {
    "collapsed": false,
    "deletable": true,
    "editable": true
   },
   "outputs": [],
   "source": [
    "# Compute warm months and cold months arrays: \n",
    "print('***** Compute warm months and cold months arrays:')\n",
    "warm_months = ma.masked_outside(climate_warm,cold_threshold,warm_threshold)\n",
    "overall_stats['cli_warm_mths']= get_stats(warm_months,'nosum')\n",
    "\n",
    "cold_months = ma.masked_outside(climate_cold,cold_threshold,warm_threshold)\n",
    "overall_stats['cli_cold_mths']= get_stats(cold_months,'nosum')\n",
    "print('DONE')"
   ]
  },
  {
   "cell_type": "code",
   "execution_count": null,
   "metadata": {
    "collapsed": false,
    "deletable": true,
    "editable": true
   },
   "outputs": [],
   "source": [
    "# Compute warm months and cold month population arrays: \n",
    "print('***** Compute warm months and cold month population arrays:')\n",
    "pop_cold_months = np.ma.masked_array(pop_urban, cold_months.mask)\n",
    "overall_stats['z_pop_cold']= get_stats(pop_cold_months)\n",
    "\n",
    "pop_warm_months = np.ma.masked_array(pop_urban, warm_months.mask)\n",
    "overall_stats['z_pop_warm']= get_stats(pop_warm_months)\n",
    "\n",
    "combined_mask = cold_months.mask | warm_months.mask\n",
    "pop_urban_full_yr = np.ma.masked_array(pop_urban, combined_mask)\n",
    "overall_stats['z_pop_full_yr']= get_stats(pop_urban_full_yr)\n",
    "print('DONE')"
   ]
  },
  {
   "cell_type": "code",
   "execution_count": null,
   "metadata": {
    "collapsed": false,
    "deletable": true,
    "editable": true
   },
   "outputs": [],
   "source": [
    "# Print out dataframe of results so far: \n",
    "print('***** Print out dataframe of results so far:')\n",
    "print(pd.DataFrame.from_dict(overall_stats).T)\n",
    "\n",
    "# Compute percents based on warm/cold three month data: \n",
    "print('***** Print percents based on warm/cold three month data:')\n",
    "world_pop = overall_stats['pop_count']['sum']\n",
    "urban_pop = overall_stats['pop_urban']['sum']\n",
    "\n",
    "print('Pct Population in Urban:',round((urban_pop / world_pop)*100,0))\n",
    "u= round((overall_stats['z_pop_warm']['sum'] / urban_pop)*100,0)\n",
    "w= round((overall_stats['z_pop_warm']['sum'] / world_pop)*100,0)\n",
    "print('Pct Warm Months:',u,w)\n",
    "u= round((overall_stats['z_pop_cold']['sum'] / urban_pop)*100,0)\n",
    "w= round((overall_stats['z_pop_cold']['sum'] / world_pop)*100,0)\n",
    "print('Pct Cold Months:',u,w)\n",
    "u= round((overall_stats['z_pop_full_yr']['sum'] / urban_pop)*100,0)\n",
    "w= round((overall_stats['z_pop_full_yr']['sum'] / world_pop)*100,0)\n",
    "print('Pct Full Year:',u,w)"
   ]
  },
  {
   "cell_type": "code",
   "execution_count": null,
   "metadata": {
    "collapsed": false,
    "deletable": true,
    "editable": true
   },
   "outputs": [],
   "source": [
    "# Compute average world-wide temperature weighted by population: \n",
    "print('***** Print average world-wide temperature weighted by population:')\n",
    "   ### Need to fix the runtime overflow warning!!!\n",
    "x=(climate_avg*pop_count).sum()/world_pop\n",
    "print('avg temp:', round(x*(9/5)+32,1), round(x,1))\n",
    "x=(climate_avg*pop_urban).sum()/urban_pop\n",
    "print('avg temp (urban):', round(x*(9/5)+32,1), round(x,1))\n",
    "\n",
    "x=(climate_warm*pop_count).sum()/world_pop\n",
    "print('warm_avg temp:', round(x*(9/5)+32,1), round(x,1))\n",
    "x=(climate_warm*pop_urban).sum()/urban_pop\n",
    "print('warm_avg temp (urban):', round(x*(9/5)+32,1), round(x,1))\n",
    "\n",
    "x=(climate_cold*pop_count).sum()/world_pop\n",
    "print('cold_avg temp:', round(x*(9/5)+32,1), round(x,1))\n",
    "x=(climate_cold*pop_urban).sum()/urban_pop\n",
    "print('cold_avg temp (urban):', round(x*(9/5)+32,1), round(x,1))\n",
    "\n",
    "del pop_count  # Free up some memory"
   ]
  },
  {
   "cell_type": "code",
   "execution_count": null,
   "metadata": {
    "collapsed": false,
    "deletable": true,
    "editable": true
   },
   "outputs": [],
   "source": [
    "# Create map of urban areas: \n",
    "print('***** Create map of urban areas:')\n",
    "\n",
    "fig, ax = plt.subplots(1, figsize=(40, 20))\n",
    "ax.axis('off')\n",
    "## Set some max/min so that we supress the poles:\n",
    "ax.set_ylim(bottom=3500, top=500)\n",
    "ax.set_xlim(left=500, right=8000)\n",
    "show(world, cmap='Set1_r', ax=ax)   \n",
    "show(pop_urban, cmap='Set1', title='World Urban Areas', ax=ax)\n",
    "ax.title.set_fontsize(40)\n",
    "plt.savefig('images/urban_areas.png')\n",
    "print('CREATED: images/urban_areas.png')"
   ]
  },
  {
   "cell_type": "code",
   "execution_count": null,
   "metadata": {
    "collapsed": false,
    "deletable": true,
    "editable": true
   },
   "outputs": [],
   "source": [
    "# Create map of coldest and warmest quarter averages masked: \n",
    "print('***** Create map of coldest and warmest quarter averages masked:')\n",
    "\n",
    "fig, ax = plt.subplots(1, figsize=(12, 12))\n",
    "ax.axis('off'); ax.set_ylim(bottom=3500, top=500)\n",
    "show(world, cmap='Set1_r', ax=ax)\n",
    "show(cold_months, cmap='coolwarm', title='Coldest Quarter Average'+chart_title_suffix, ax=ax)\n",
    "plt.savefig('avg-cold-qt-mask.png')\n",
    "print('CREATED: avg-cold-qt-mask.png')\n",
    "\n",
    "fig, ax = plt.subplots(1, figsize=(12, 12))\n",
    "ax.axis('off'); ax.set_ylim(bottom=3500, top=500)\n",
    "show(world, cmap='Set1_r', ax=ax) \n",
    "show(warm_months, cmap='coolwarm', title='Warmest Quarter Average'+chart_title_suffix, ax=ax)\n",
    "plt.savefig('images/avg-warm-qt-mask.png')\n",
    "print('CREATED: images/avg-warm-qt-mask.png')"
   ]
  },
  {
   "cell_type": "code",
   "execution_count": null,
   "metadata": {
    "collapsed": true,
    "deletable": true,
    "editable": true
   },
   "outputs": [],
   "source": [
    "# Create map of year round averages masked: \n",
    "print('***** Create map of year round averages masked:')\n",
    "climate_avg_fullyear = np.ma.masked_array(climate_avg, combined_mask)\n",
    "\n",
    "fig, ax = plt.subplots(1, figsize=(12, 12))\n",
    "ax.axis('off'); ax.set_ylim(bottom=3500, top=500)\n",
    "title='Overall Average Temperature'+chart_title_suffix\n",
    "\n",
    "show(world, cmap='Set1_r', ax=ax) \n",
    "show(climate_avg_fullyear, cmap='coolwarm', title=title, ax=ax)\n",
    "plt.savefig('images/avgtemp-yearround-mask.png')\n",
    "print('CREATED: images/avgtemp-yearround-mask.png')"
   ]
  },
  {
   "cell_type": "code",
   "execution_count": null,
   "metadata": {
    "collapsed": true,
    "deletable": true,
    "editable": true
   },
   "outputs": [],
   "source": [
    "# Free up some memory: \n",
    "print('***** Free up some memory:')\n",
    "del pop_urban; del climate_avg; del climate_warm; del climate_cold; del combined_mask; \n",
    "del pop_urban_full_yr; del climate_avg_fullyear; del warm_months; del cold_months"
   ]
  },
  {
   "cell_type": "code",
   "execution_count": null,
   "metadata": {
    "collapsed": true,
    "deletable": true,
    "editable": true
   },
   "outputs": [],
   "source": [
    "# Create maps for each month masked: \n",
    "print('***** Create maps for each month masked:')\n",
    "\n",
    "bymonth_out = {}  # Setup output dictionary\n",
    "# Set up array of months:\n",
    "mths = ['01','02','03','04','05','06','07','08','09','10','11','12']\n",
    "\n",
    "for i in mths:\n",
    "    # Open raster layer for given month: \n",
    "    avg_temp_rt = rt.open(r'climate/wc2.0_2.5m_tavg/wc2.0_2.5m_tavg_'+i+'.tif')\n",
    "    # Read it into an numpy array:\n",
    "    avg_temp = avg_temp_rt.read(out_dtype=np.float64, masked=True)\n",
    "    avg_temp_rt.close()\n",
    "    # Mask it based on the temp threshold: \n",
    "    temps_masked = ma.masked_outside(avg_temp,cold_threshold,warm_threshold)\n",
    "    # Create an array of the masked urban population:\n",
    "    useable_temp = ma.masked_array(pop_urban, temps_masked.mask)\n",
    "    # Compute the stats and add to the dictionary of stats: \n",
    "    overall_stats[i]= get_stats(useable_temp)\n",
    "    # Compute results (Percent Urban, Percent World, Avg Temperature-weighted)\n",
    "    u= round((overall_stats[i]['sum'] / urban_pop)*100,1)\n",
    "    w= round((overall_stats[i]['sum'] / world_pop)*100,1)\n",
    "    temp= round((avg_temp*pop_urban).sum()/urban_pop*(9/5)+32,1)\n",
    "    print(i,u,w,temp)\n",
    "    # Store in the output dictionary:\n",
    "    bymonth_out[i] = {'pop_urban_pct': u, 'pop_all_pct': w, 'avg_temp': temp}\n",
    "\n",
    "    # Create map:\n",
    "    fig, ax = plt.subplots(1, figsize=(12, 12))\n",
    "    ax.axis('off'); ax.set_ylim(bottom=3500, top=500)\n",
    "    title = i+'-Average Temp'+chart_title_suffix\n",
    "    \n",
    "    show(world, cmap='Set1_r', ax=ax) \n",
    "    show(temps_masked, cmap='coolwarm',  title=title, ax=ax)\n",
    "    \n",
    "    plt.savefig('mths/avgtemp-'+i+'-mask.png')\n",
    "    print('CREATED: mths/avgtemp-'+i+'-mask.png')\n",
    "    del avg_temp;    del temps_masked;    del useable_temp;    del avg_temp_rt"
   ]
  },
  {
   "cell_type": "code",
   "execution_count": null,
   "metadata": {
    "collapsed": false,
    "deletable": true,
    "editable": true
   },
   "outputs": [],
   "source": [
    "# Print month summary data: \n",
    "print('***** Print month summary data:')\n",
    "\n",
    "mth_results = pd.DataFrame.from_dict(bymonth_out).T\n",
    "mth_results.index.name = 'Month' # Name the \"index\" month\n",
    "print(mth_results)\n",
    "\n",
    "# Create chart for monthly data: \n",
    "print('***** Create chart for monthly data:')\n",
    "\n",
    "mytitle = 'Percent Monthly Comfortable Micromobility Use & Temperature'\n",
    "fig, ax = plt.subplots(1, figsize=(20, 12))\n",
    "             \n",
    "mth_results[['pop_all_pct','pop_urban_pct']].plot(kind='bar', color=['orange', 'red'], \n",
    "                                                  title=mytitle, ax=ax)\n",
    "mth_results[['avg_temp']].plot(linestyle='-', marker='o', c='b',linewidth=7.0, ax=ax)\n",
    "  \n",
    "mylabels = ['Average Temp','Percent World','Percent Urban']\n",
    "plt.legend(fontsize=20, labels=mylabels)\n",
    "for item in ([ax.title, ax.xaxis.label, ax.yaxis.label] +\n",
    "             ax.get_xticklabels() + ax.get_yticklabels()):\n",
    "    item.set_fontsize(20)\n",
    "ax.title.set_fontsize(30)\n",
    "plt.savefig('images/month_chart.png')\n",
    "print('CREATED: images/month_chart.png')\n",
    "print('***** Process Complete')"
   ]
  }
 ],
 "metadata": {
  "kernelspec": {
   "display_name": "Python 3",
   "language": "python",
   "name": "python3"
  },
  "language_info": {
   "codemirror_mode": {
    "name": "ipython",
    "version": 3
   },
   "file_extension": ".py",
   "mimetype": "text/x-python",
   "name": "python",
   "nbconvert_exporter": "python",
   "pygments_lexer": "ipython3",
   "version": "3.5.2"
  }
 },
 "nbformat": 4,
 "nbformat_minor": 2
}
